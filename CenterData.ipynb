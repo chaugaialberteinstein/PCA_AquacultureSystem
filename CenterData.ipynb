{
  "nbformat": 4,
  "nbformat_minor": 0,
  "metadata": {
    "colab": {
      "name": "CenterData.ipynb",
      "provenance": [],
      "authorship_tag": "ABX9TyMCUGqBAnv/Jk5kJ1frWJHY",
      "include_colab_link": true
    },
    "kernelspec": {
      "name": "python3",
      "display_name": "Python 3"
    }
  },
  "cells": [
    {
      "cell_type": "markdown",
      "metadata": {
        "id": "view-in-github",
        "colab_type": "text"
      },
      "source": [
        "<a href=\"https://colab.research.google.com/github/christianadriano/PCA_AquacultureSystem/blob/master/CenterData.ipynb\" target=\"_parent\"><img src=\"https://colab.research.google.com/assets/colab-badge.svg\" alt=\"Open In Colab\"/></a>"
      ]
    },
    {
      "cell_type": "code",
      "metadata": {
        "id": "VVN_Xtxk0zle",
        "colab_type": "code",
        "colab": {}
      },
      "source": [
        "import pandas as pd #tables for data wrangling\n",
        "import numpy as np #basic statistical methods \n",
        "import io #for uploading data\n",
        "\n",
        "#Manual option\n",
        "from google.colab import files\n",
        "uploaded = files.upload() #choose file dados_relativizados_carcinicultura.csv\n",
        "\n"
      ],
      "execution_count": null,
      "outputs": []
    },
    {
      "cell_type": "code",
      "metadata": {
        "id": "b8tmeB_O0_a_",
        "colab_type": "code",
        "colab": {}
      },
      "source": [
        "#Center the data to have MEAN==0\n",
        "from sklearn.preprocessing import StandardScaler\n",
        "\n",
        "x = df_environment.iloc[:,1:].values\n",
        "x = StandardScaler().fit_transform(x) # normalizing the features\n",
        "df_pd.concat([principalDf, df_environment[['especie']]], axis = 1)"
      ],
      "execution_count": null,
      "outputs": []
    }
  ]
}