{
  "nbformat": 4,
  "nbformat_minor": 0,
  "metadata": {
    "colab": {
      "name": "WithinGroup_EnvironmentalFactors_PCA.ipynb",
      "provenance": [],
      "collapsed_sections": [],
      "include_colab_link": true
    },
    "kernelspec": {
      "name": "python3",
      "display_name": "Python 3"
    }
  },
  "cells": [
    {
      "cell_type": "markdown",
      "metadata": {
        "id": "view-in-github",
        "colab_type": "text"
      },
      "source": [
        "<a href=\"https://colab.research.google.com/github/christianadriano/PCA_AquacultureSystem/blob/master/WithinGroup_EnvironmentalFactors_PCA.ipynb\" target=\"_parent\"><img src=\"https://colab.research.google.com/assets/colab-badge.svg\" alt=\"Open In Colab\"/></a>"
      ]
    },
    {
      "cell_type": "code",
      "metadata": {
        "id": "x2hh2s23GKLd",
        "colab_type": "code",
        "colab": {
          "resources": {
            "http://localhost:8080/nbextensions/google.colab/files.js": {
              "data": "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",
              "ok": true,
              "headers": [
                [
                  "content-type",
                  "application/javascript"
                ]
              ],
              "status": 200,
              "status_text": "OK"
            }
          },
          "base_uri": "https://localhost:8080/",
          "height": 73
        },
        "outputId": "6e209ea4-1c74-4867-ea71-61697d58f9aa"
      },
      "source": [
        "import pandas as pd #tables for data wrangling\n",
        "import numpy as np #basic statistical methods \n",
        "import io #for uploading data\n",
        "\n",
        "#Manual option\n",
        "from google.colab import files\n",
        "uploaded = files.upload() #choose file dados_originais.csv\n",
        "\n"
      ],
      "execution_count": 9,
      "outputs": [
        {
          "output_type": "display_data",
          "data": {
            "text/html": [
              "\n",
              "     <input type=\"file\" id=\"files-bb40f745-6ec5-42f5-abfe-18505923acb7\" name=\"files[]\" multiple disabled\n",
              "        style=\"border:none\" />\n",
              "     <output id=\"result-bb40f745-6ec5-42f5-abfe-18505923acb7\">\n",
              "      Upload widget is only available when the cell has been executed in the\n",
              "      current browser session. Please rerun this cell to enable.\n",
              "      </output>\n",
              "      <script src=\"/nbextensions/google.colab/files.js\"></script> "
            ],
            "text/plain": [
              "<IPython.core.display.HTML object>"
            ]
          },
          "metadata": {
            "tags": []
          }
        },
        {
          "output_type": "stream",
          "text": [
            "Saving dados_relativizados_carcinicultura.csv to dados_relativizados_carcinicultura (1).csv\n"
          ],
          "name": "stdout"
        }
      ]
    },
    {
      "cell_type": "code",
      "metadata": {
        "id": "goTfJj4TIKCv",
        "colab_type": "code",
        "colab": {}
      },
      "source": [
        "#Upload data from cvs file\n",
        "df = pd.read_csv(io.StringIO(uploaded['dados_relativizados_carcinicultura.csv'].decode('utf-8'))) "
      ],
      "execution_count": 16,
      "outputs": []
    },
    {
      "cell_type": "code",
      "metadata": {
        "id": "PAMHC1vhY-Mk",
        "colab_type": "code",
        "colab": {}
      },
      "source": [
        "df.shape\n",
        "column_names = df.columns\n",
        "#Select fatores Ambientais \n",
        "feature_names = [name for name in column_names if name.startswith(\"A\")] \n",
        "\n",
        "#feature_names = list(df.columns[\"A2_DA\":\"A4_EUC\"])\n",
        "#print(feature_names)\n",
        "list_names = ['especie'] + feature_names\n",
        "df_environment = df[list_names]\n",
        "#df_environment.head()\n",
        "\n"
      ],
      "execution_count": 17,
      "outputs": []
    },
    {
      "cell_type": "code",
      "metadata": {
        "id": "fcFuhwlJjlZH",
        "colab_type": "code",
        "colab": {
          "base_uri": "https://localhost:8080/",
          "height": 986
        },
        "outputId": "122e55ad-fef4-402b-83a0-17ac19ba4c9b"
      },
      "source": [
        "#Normalize the data to have MEAN==0\n",
        "from sklearn.preprocessing import StandardScaler\n",
        "\n",
        "x = df_environment.iloc[:,1:].values\n",
        "x = StandardScaler().fit_transform(x) # normalizing the features\n",
        "print(x)\n"
      ],
      "execution_count": 43,
      "outputs": [
        {
          "output_type": "stream",
          "text": [
            "[[-7.58456915e-01 -4.86930098e-01 -9.25340668e-01  1.52346393e+00\n",
            "   3.36135741e+00 -9.81899988e-01  1.54849437e+00  2.88405691e-01\n",
            "   8.99046115e-01  5.79877044e-03 -3.54325713e-02  2.88675135e-01\n",
            "   5.97021487e-10  1.76039894e-10  1.44665429e-10 -3.35490374e+00]\n",
            " [-5.08045060e-01 -4.85602917e-01  2.73753716e-01 -4.09545923e-01\n",
            "   3.39939908e-01  2.53889024e+00  2.03110111e+00  4.35067105e-01\n",
            "   1.62585665e+00 -6.40769869e-02 -7.93517902e-02 -3.46410162e+00\n",
            "  -3.00570618e+00 -2.28101388e+00 -1.69542712e+00  9.90996726e-01]\n",
            " [-4.94139807e-01 -4.86009579e-01  7.62122181e-01 -2.25905473e-01\n",
            "  -4.95082810e-01  2.92514490e-01  8.09588010e-01 -7.34712260e-01\n",
            "  -4.13911840e-01 -4.28646155e-01 -6.18300196e-01  2.88675135e-01\n",
            "   1.20414222e-01  8.79781570e-01  6.54504387e-01  3.22879224e-01]\n",
            " [-4.64099763e-01 -4.86159228e-01  1.26026990e-01 -4.35624950e-01\n",
            "  -6.83613635e-01 -8.70315311e-01 -2.45602995e-01 -8.88383130e-01\n",
            "  -1.37048376e+00 -9.44577507e-02  5.33875435e-01  2.88675135e-01\n",
            "   1.33661757e+00 -1.17994612e-01  1.82533318e+00  7.19430730e-02]\n",
            " [-2.74286360e-01 -4.85370814e-01  6.59404600e-01 -7.51542623e-01\n",
            "  -1.69374707e-01 -1.31078114e+00 -7.47295876e-01  1.79560076e+00\n",
            "  -1.67501974e-01  3.08033209e+00  4.71206990e-01  2.88675135e-01\n",
            "   5.63291496e-01  1.67447255e+00  7.84660749e-01  3.74393520e-02]\n",
            " [-2.69304652e-01 -4.85612379e-01  6.38635743e-01 -6.33485290e-01\n",
            "  -2.77006111e-01  8.09327733e-01  3.65153556e-01 -9.80793036e-01\n",
            "  -1.28095348e+00 -5.55095821e-01 -4.39514554e-01  2.88675135e-01\n",
            "   4.70695410e-01 -4.85620899e-01 -6.71277670e-01  2.44461677e-01]\n",
            " [ 4.68834967e-03 -4.85826006e-01 -8.89997602e-02 -6.62891554e-01\n",
            "  -4.02224345e-01  1.01194202e+00  1.30666666e-01  2.58380611e-01\n",
            "  -8.97531102e-01 -4.97788583e-01 -3.75806518e-01  2.88675135e-01\n",
            "  -4.91334253e-02 -5.32740511e-01 -6.63754133e-01  4.48347299e-01]\n",
            " [ 1.01435370e+00 -4.85467363e-01  2.77970684e-01 -7.22048835e-01\n",
            "  -1.98217109e-01  2.51404345e-01 -5.15535577e-01  7.22570935e-01\n",
            "  -1.01396065e-01 -3.96818688e-01  1.11825987e-01  2.88675135e-01\n",
            "  -1.70375351e-01 -6.40847717e-01  3.95949426e-01  5.31228616e-02]\n",
            " [ 1.34888505e+00 -4.85625451e-01  1.55097317e+00 -5.17750449e-01\n",
            "  -2.79820004e-01  3.57116145e-01  4.57857675e-01  8.99121509e-01\n",
            "  -1.18122553e-01 -4.93138654e-01 -5.35731183e-02  2.88675135e-01\n",
            "   8.04488447e-02  1.30310842e+00 -1.88860356e-01  5.17354741e-01]\n",
            " [ 2.64882274e+00 -4.85523464e-01 -1.99182715e-01 -9.30004192e-01\n",
            "   2.27275973e-03 -3.15328361e-01 -1.36539325e-01  1.48906502e+00\n",
            "   2.12974336e+00  1.15874876e+00  3.08283197e+00  2.88675135e-01\n",
            "  -8.34511680e-01 -9.53346978e-01 -1.77608240e+00  1.62907428e-01]\n",
            " [-7.82979498e-01  1.25837367e+00  6.86781497e-01  2.47011345e+00\n",
            "  -3.99410452e-01 -5.94290055e-01 -1.23262921e+00 -1.12706980e+00\n",
            "   4.23036398e-01 -5.43225036e-01 -8.67947034e-01  2.88675135e-01\n",
            "   8.06856820e-01  7.60649232e-01  1.05772349e+00  1.44087216e-01]\n",
            " [-6.70214844e-01  2.93505094e+00 -2.40571657e+00  2.79919448e-01\n",
            "  -3.29063129e-01 -5.94290055e-01 -1.23262921e+00 -1.06110357e+00\n",
            "  -4.65041434e-01 -4.55381227e-01 -8.65479975e-01  2.88675135e-01\n",
            "   4.05263994e-01  2.73789136e-01 -2.82284812e-01  1.17948034e-01]\n",
            " [-7.95222946e-01  6.64702682e-01 -1.35642886e+00  1.01530247e+00\n",
            "  -4.69757774e-01 -5.94290055e-01 -1.23262921e+00 -1.09614984e+00\n",
            "  -2.62740314e-01 -7.16250721e-01 -8.64334630e-01  2.88675135e-01\n",
            "   2.76138276e-01  1.19763693e-01  5.59515273e-01  2.43416110e-01]]\n"
          ],
          "name": "stdout"
        }
      ]
    },
    {
      "cell_type": "code",
      "metadata": {
        "id": "JMcLfI7nmRwr",
        "colab_type": "code",
        "colab": {
          "base_uri": "https://localhost:8080/",
          "height": 315
        },
        "outputId": "02e7501d-c5e5-42bb-beda-d018cd328776"
      },
      "source": [
        "x = df_environment.iloc[:,1:]\n",
        "print(x)"
      ],
      "execution_count": 41,
      "outputs": [
        {
          "output_type": "stream",
          "text": [
            "         A2_DA       A3_UE       A5_UN  ...      A2_PRN      A3_PRF      A4_EUC\n",
            "0     3.227352    0.045566   64.219914  ...   85.366401   80.588209    0.000000\n",
            "1    10.339482    0.084333   81.545545  ...   65.432099   62.557924  100.000000\n",
            "2    10.734416    0.072454   88.601947  ...   93.055014   87.548638   84.626489\n",
            "3    11.587605    0.068083   79.411052  ...   84.335219  100.000000   78.852400\n",
            "4    16.978635    0.091112   87.117788  ...  100.000000   88.932806   78.058463\n",
            "5    17.120124    0.084056   86.817700  ...   81.122449   73.449402   82.822086\n",
            "6    24.902000    0.077816   76.304145  ...   80.710660   73.529412   87.513533\n",
            "7    53.578246    0.088292   81.606476  ...   79.765886   84.798995   78.419343\n",
            "8    63.079516    0.083675  100.000000  ...   96.754564   78.579744   89.101407\n",
            "9   100.000000    0.086654   74.712119  ...   77.034884   61.700183   80.945507\n",
            "10    2.530868   51.025057   87.513355  ...   92.013889   91.836735   80.512450\n",
            "11    5.733579  100.000000   42.830065  ...   87.759107   77.586207   79.910983\n",
            "12    2.183133   33.684211   57.991150  ...   86.413043   86.538462   82.798027\n",
            "\n",
            "[13 rows x 16 columns]\n"
          ],
          "name": "stdout"
        }
      ]
    },
    {
      "cell_type": "code",
      "metadata": {
        "id": "OTg-Q_gWt-9B",
        "colab_type": "code",
        "colab": {}
      },
      "source": [
        "#Run PCA \n",
        "from sklearn.decomposition import PCA\n",
        "pca = PCA(n_components=2)\n",
        "\n",
        "principalComponents = pca.fit_transform(x)\n",
        "principalDf = pd.DataFrame(data = principalComponents\n",
        "             , columns = ['principal component 1', 'principal component 2'])"
      ],
      "execution_count": null,
      "outputs": []
    },
    {
      "cell_type": "code",
      "metadata": {
        "id": "KF3_v0eJmRlg",
        "colab_type": "code",
        "colab": {}
      },
      "source": [
        ""
      ],
      "execution_count": null,
      "outputs": []
    }
  ]
}