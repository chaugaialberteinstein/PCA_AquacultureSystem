{
  "nbformat": 4,
  "nbformat_minor": 0,
  "metadata": {
    "colab": {
      "name": "Preprosses_OriginalData.ipynb",
      "provenance": [],
      "authorship_tag": "ABX9TyP3FpzCvFIaHWbYpSrWGUGe",
      "include_colab_link": true
    },
    "kernelspec": {
      "name": "python3",
      "display_name": "Python 3"
    }
  },
  "cells": [
    {
      "cell_type": "markdown",
      "metadata": {
        "id": "view-in-github",
        "colab_type": "text"
      },
      "source": [
        "<a href=\"https://colab.research.google.com/github/christianadriano/PCA_AquacultureSystem/blob/master/Preprosses_OriginalData.ipynb\" target=\"_parent\"><img src=\"https://colab.research.google.com/assets/colab-badge.svg\" alt=\"Open In Colab\"/></a>"
      ]
    },
    {
      "cell_type": "code",
      "metadata": {
        "id": "C4wy0p2Yh3IW",
        "colab_type": "code",
        "colab": {}
      },
      "source": [
        "import pandas as pd #tables for data wrangling\n",
        "import numpy as np #basic statistical methods \n",
        "import io #for uploading data\n",
        "\n",
        "#Manual option\n",
        "from google.colab import files\n",
        "uploaded = files.upload() #choose file dados_originais.csv\n",
        "#Upload data from cvs file\n",
        "df = pd.read_csv(io.StringIO(uploaded['dados_originais.csv'].decode('utf-8')))\n",
        "df.head()"
      ],
      "execution_count": null,
      "outputs": []
    },
    {
      "cell_type": "code",
      "metadata": {
        "id": "EA9EMkxjhpFX",
        "colab_type": "code",
        "colab": {}
      },
      "source": [
        "#Select only environment columns\n",
        "column_names = df.columns\n",
        "#Select fatores Ambientais \n",
        "feature_names = [name for name in column_names if name.startswith(\"A\")] \n",
        "\n",
        "#feature_names = list(df.columns[\"A2_DA\":\"A4_EUC\"])\n",
        "#print(feature_names)\n",
        "list_names = ['especie'] + feature_names\n",
        "df_environment = df[list_names]\n",
        "df_environment.head()"
      ],
      "execution_count": null,
      "outputs": []
    },
    {
      "cell_type": "code",
      "metadata": {
        "id": "rTf3c5xQhjoB",
        "colab_type": "code",
        "colab": {}
      },
      "source": [
        "#Deal with missing data (NaN)\n",
        "#df_environment = df_environment.dropna() #axis='rows') #(axis='columns')\n",
        "#df_environment.head()\n",
        "\n",
        "#Data imputation\n",
        "from sklearn.impute import SimpleImputer\n",
        "imp_mean = SimpleImputer(missing_values=np.nan, strategy='mean')\n",
        "\n",
        "features = [\"A11_PEPN\",\"A22_REC\"]\n",
        "col_1 = df_environment[features]\n",
        "np_array = np.array(col_1)\n",
        "#print(np_array)\n",
        "np.count_nonzero(~np.isnan(np_array))\n",
        "\n",
        "transformed_values = imp_mean.fit_transform(np_array)\n",
        "print(transformed_values)\n",
        "\n",
        "#restrict to columns that are complete\n",
        "#complete = ['A3_UE','A5_UN','A6_UF','A7_EUE','A8_EUN','A9_EUF','A22_REC']\n",
        "#df_environment= df_environment[complete]\n",
        "#df_environment.head()"
      ],
      "execution_count": null,
      "outputs": []
    },
    {
      "cell_type": "code",
      "metadata": {
        "id": "bOmVw1g6iJHC",
        "colab_type": "code",
        "colab": {}
      },
      "source": [
        "#Normalize the data to have MEAN==0\n",
        "from sklearn.preprocessing import StandardScaler\n",
        "x = df_environment.loc[:, feature_names].values\n",
        "x = StandardScaler().fit_transform(x) # normalizing the features"
      ],
      "execution_count": null,
      "outputs": []
    }
  ]
}